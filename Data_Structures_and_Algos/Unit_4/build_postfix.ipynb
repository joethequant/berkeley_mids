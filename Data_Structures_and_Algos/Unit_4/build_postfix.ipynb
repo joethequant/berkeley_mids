{
 "cells": [
  {
   "cell_type": "code",
   "execution_count": 89,
   "metadata": {},
   "outputs": [
    {
     "data": {
      "text/plain": [
       "['5 2 + 8 3 - * 4 /\\n',\n",
       " '4 2 8 / 5 2 + 2 * - +\\n',\n",
       " '2 2 8 4 5 / 6 * * 3 4 / 5 * + + 5 - 2 * 10 + +\\n']"
      ]
     },
     "execution_count": 89,
     "metadata": {},
     "output_type": "execute_result"
    }
   ],
   "source": [
    "with open('input.txt') as f:\n",
    "    contents = f.readlines()\n",
    "contents"
   ]
  },
  {
   "cell_type": "code",
   "execution_count": 230,
   "metadata": {},
   "outputs": [],
   "source": [
    "class ArrayStack:\n",
    "\n",
    "    def __init__(self) -> None:\n",
    "        self._data = []\n",
    "    \n",
    "    def __len__(self):\n",
    "        return len(self._data)\n",
    "\n",
    "    def __repr__(self):\n",
    "        return f'{self._data}'\n",
    "\n",
    "    def __getitem__(self, k):\n",
    "        return self._data[k]\n",
    "\n",
    "    def is_empty(self):\n",
    "        return len(self._data) == 0\n",
    "    \n",
    "    def push(self, element):\n",
    "        return self._data.append(element)\n",
    "    \n",
    "    def top(self):\n",
    "        if self.is_empty():\n",
    "            raise ValueError('Stack is Empty')\n",
    "        return (self._data[-1])\n",
    "\n",
    "    def pop(self):\n",
    "        if self.is_empty():\n",
    "            raise ValueError('Stack is Empty')\n",
    "        return self._data.pop()"
   ]
  },
  {
   "cell_type": "code",
   "execution_count": 251,
   "metadata": {},
   "outputs": [],
   "source": [
    "def postfix(line):\n",
    "    stack = ArrayStack()\n",
    "    line = line.split(' ')\n",
    "    for x in line:\n",
    "        x = x.replace( '\\n', '')\n",
    "\n",
    "        if x == ' ':\n",
    "            None\n",
    "        elif x == '+':\n",
    "            if not stack.is_empty():\n",
    "                stack.push(stack.pop() + stack.pop())\n",
    "        elif x == '-':\n",
    "            if not stack.is_empty():\n",
    "                last = stack.pop()\n",
    "                second = stack.pop()\n",
    "                stack.push(second - last)\n",
    "        elif x == '*':\n",
    "            if not stack.is_empty():\n",
    "                stack.push(stack.pop() * stack.pop())\n",
    "        elif x == '/':\n",
    "            if not stack.is_empty():\n",
    "                denominator = stack.pop()\n",
    "                numerator = stack.pop()\n",
    "                stack.push(numerator / denominator)\n",
    "        else:    \n",
    "            stack.push(int(x))\n",
    "    return round(stack[0], 2)"
   ]
  },
  {
   "cell_type": "code",
   "execution_count": 253,
   "metadata": {},
   "outputs": [
    {
     "data": {
      "text/plain": [
       "[8.75, -9.75, 90.3]"
      ]
     },
     "execution_count": 253,
     "metadata": {},
     "output_type": "execute_result"
    }
   ],
   "source": [
    "result = []\n",
    "for x in contents:\n",
    "    result.append(postfix(x))\n",
    "result"
   ]
  },
  {
   "cell_type": "code",
   "execution_count": 254,
   "metadata": {},
   "outputs": [],
   "source": [
    "output = open(\"output.txt\", \"w\")\n",
    "lines = output.writelines( [str(x) + \"\\n\" for x in result])\n",
    "output.close()"
   ]
  },
  {
   "cell_type": "code",
   "execution_count": 255,
   "metadata": {},
   "outputs": [
    {
     "name": "stdout",
     "output_type": "stream",
     "text": [
      "[8.75, -9.75, 90.3]\n"
     ]
    }
   ],
   "source": [
    "print(result)"
   ]
  }
 ],
 "metadata": {
  "interpreter": {
   "hash": "bd41b1c5bcb29f35dd9e5be828591988549de760606d9b56bca42edee5aa471b"
  },
  "kernelspec": {
   "display_name": "Python 3.7.7 64-bit ('quant': conda)",
   "language": "python",
   "name": "python3"
  },
  "language_info": {
   "codemirror_mode": {
    "name": "ipython",
    "version": 3
   },
   "file_extension": ".py",
   "mimetype": "text/x-python",
   "name": "python",
   "nbconvert_exporter": "python",
   "pygments_lexer": "ipython3",
   "version": "3.7.7"
  },
  "orig_nbformat": 4
 },
 "nbformat": 4,
 "nbformat_minor": 2
}
