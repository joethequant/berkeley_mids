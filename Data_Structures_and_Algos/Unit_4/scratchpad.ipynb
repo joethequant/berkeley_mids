{
 "cells": [
  {
   "cell_type": "code",
   "execution_count": 37,
   "metadata": {},
   "outputs": [
    {
     "name": "stdout",
     "output_type": "stream",
     "text": [
      "12\n",
      "4\n",
      "2\n",
      "26\n",
      "30\n",
      "1\n",
      "Min Value: 1\n",
      "Max Value: 30\n"
     ]
    }
   ],
   "source": [
    "### import random number object\n",
    "import random\n",
    "\n",
    "# Function to get min and max, sub \n",
    "def get_min_max(integer_list):\n",
    "    '''\n",
    "    integer_list: list object of integers.\n",
    "    returns: tuple of min, max\n",
    "    '''\n",
    "    min_value = None\n",
    "    max_value = None\n",
    "    for x in integer_list:\n",
    "        if not min_value:  #we only need to compare one value, as we assign to both on first iteration.\n",
    "            max_value = x\n",
    "            min_value = x\n",
    "        else:\n",
    "            if x >= min_value and x <= max_value:\n",
    "                None\n",
    "            elif x < min_value:\n",
    "                print(x)\n",
    "                min_value = x\n",
    "            elif x > max_value:\n",
    "                print(x)\n",
    "                max_value =x\n",
    "    return min_value, max_value\n",
    "\n",
    "# Generate a list of even n integers.\n",
    "n = 30 #even n\n",
    "list_of_random_numbers = [random.randint(1,30) for n in range(0,n)]\n",
    "\n",
    "min_value, max_value = get_min_max(list_of_random_numbers)\n",
    "print(f'Min Value: {min_value}')\n",
    "print(f'Max Value: {max_value}')\n",
    "\n",
    "assert min_value == min(list_of_random_numbers)\n",
    "assert max_value == max(list_of_random_numbers)\n"
   ]
  },
  {
   "cell_type": "code",
   "execution_count": 64,
   "metadata": {},
   "outputs": [
    {
     "name": "stdout",
     "output_type": "stream",
     "text": [
      "16\n"
     ]
    },
    {
     "data": {
      "text/plain": [
       "31"
      ]
     },
     "execution_count": 64,
     "metadata": {},
     "output_type": "execute_result"
    }
   ],
   "source": [
    "how_many = []\n",
    "def f(y):\n",
    "    if y<2:\n",
    "        how_many.append(1)\n",
    "        return 1\n",
    "    how_many.append(1)\n",
    "    return f(y//2) + f(y//2)\n",
    "y=n\n",
    "print(f(31))\n",
    "\n",
    "len(how_many)"
   ]
  },
  {
   "cell_type": "code",
   "execution_count": 27,
   "metadata": {},
   "outputs": [
    {
     "data": {
      "text/plain": [
       "7.5"
      ]
     },
     "execution_count": 27,
     "metadata": {},
     "output_type": "execute_result"
    }
   ],
   "source": [
    "2 => 3\n",
    "3 = >3\n",
    "5 => 6\n",
    "6 => 7\n",
    "8 => 15\n",
    "10 => 15\n",
    "15 => 15\n",
    "16 => 15\n",
    "20 => 31\n",
    "\n",
    "30=>31\n",
    "\n",
    "\n"
   ]
  },
  {
   "cell_type": "code",
   "execution_count": 137,
   "metadata": {},
   "outputs": [
    {
     "data": {
      "text/plain": [
       "15"
      ]
     },
     "execution_count": 137,
     "metadata": {},
     "output_type": "execute_result"
    }
   ],
   "source": [
    "start_memory_location = 0\n",
    "\n",
    "m = 3 #columns\n",
    "\n",
    "\n",
    "i = 1\n",
    "x= 3 # row\n",
    "y = 3 #column\n",
    "\n",
    "start_memory_location + (i * ((x * (m+1) ) + y) )"
   ]
  },
  {
   "cell_type": "markdown",
   "metadata": {},
   "source": [
    "0 1 2 3\n",
    "\n",
    "4 5 6 7\n",
    "\n",
    "8 9 10 11  \n",
    "\n",
    "12 13 14 15"
   ]
  },
  {
   "cell_type": "code",
   "execution_count": 158,
   "metadata": {},
   "outputs": [
    {
     "data": {
      "text/plain": [
       "[24, 5, 23, 6]"
      ]
     },
     "execution_count": 158,
     "metadata": {},
     "output_type": "execute_result"
    }
   ],
   "source": [
    "\n",
    "# Generate a list of even n integers.\n",
    "n = 4 #even n\n",
    "list_of_random_numbers = [random.randint(1,30) for n in range(0,n)]\n",
    "list_of_random_numbers"
   ]
  },
  {
   "cell_type": "code",
   "execution_count": 148,
   "metadata": {},
   "outputs": [],
   "source": [
    "n = len(list_of_random_numbers)\n",
    "i = 0\n",
    "while i < n:\n",
    "        if x > list_of_random_numbers[i - 1]:\n",
    "            list_of_random_numbers[i], list_of_random_numbers[i - 1]  = list_of_random_numbers[i - 1], list_of_random_numbers[i]\n",
    "        i+=1\n"
   ]
  },
  {
   "cell_type": "code",
   "execution_count": null,
   "metadata": {},
   "outputs": [],
   "source": [
    "class Sort:\n",
    "    \n",
    "    def __init__(self, marbles):\n",
    "        \n",
    "        self._marbles = list(marbles)\n",
    "       \n",
    "    def __str__(self):\n",
    "        str_list = [str(x) for x in self._marbles]\n",
    "        str_list = ' '.join(str_list)\n",
    "        return str_list\n",
    "    \n",
    "    def __repr__ (self):\n",
    "        str_list = [str(x) for x in self._marbles]\n",
    "        str_list = ' '.join(str_list)\n",
    "        return str_list\n",
    "    \n",
    "    def switch(self):\n",
    "        self._marbles[1], self._marbles[0] = self._marbles[0], self._marbles[1]\n",
    "        print(self)\n",
    "        return self\n",
    "    \n",
    "    def rotate(self):\n",
    "        self._marbles.append(self._marbles.pop(0))\n",
    "        print(self)\n",
    "        return self\n",
    "    \n",
    "    def solved(self):\n",
    "        flag = False\n",
    "        if(all(self._marbles[i] <= self._marbles[i + 1] for i in range(len(self._marbles)-1))):\n",
    "            return True\n",
    "        else:\n",
    "            return False"
   ]
  },
  {
   "cell_type": "code",
   "execution_count": 177,
   "metadata": {},
   "outputs": [
    {
     "data": {
      "text/plain": [
       "2"
      ]
     },
     "execution_count": 177,
     "metadata": {},
     "output_type": "execute_result"
    }
   ],
   "source": [
    "i = 0\n",
    "i+=2\n",
    "i"
   ]
  },
  {
   "cell_type": "code",
   "execution_count": 194,
   "metadata": {},
   "outputs": [],
   "source": [
    "n = 4 #even n\n",
    "list_of_random_numbers = [random.randint(1,30) for n in range(0,n)]\n",
    "list_of_random_numbers\n",
    "\n",
    "n = len(list_of_random_numbers)\n",
    "i = 0\n",
    "while i < (n -1):\n",
    "    \n",
    "        if list_of_random_numbers[i] > list_of_random_numbers[i + 1]:\n",
    "            list_of_random_numbers.append(list_of_random_numbers.pop(0))\n",
    "\n",
    "        elif list_of_random_numbers[i] < list_of_random_numbers[i + 1]:\n",
    "            i+=1\n",
    "    "
   ]
  },
  {
   "cell_type": "code",
   "execution_count": 193,
   "metadata": {},
   "outputs": [
    {
     "data": {
      "text/plain": [
       "[19, 29, 21, 29]"
      ]
     },
     "execution_count": 193,
     "metadata": {},
     "output_type": "execute_result"
    }
   ],
   "source": [
    "list_of_random_numbers"
   ]
  },
  {
   "cell_type": "code",
   "execution_count": 241,
   "metadata": {},
   "outputs": [
    {
     "name": "stdout",
     "output_type": "stream",
     "text": [
      "[10, 14, 15, 20, 25, 25, 26, 27, 29]\n"
     ]
    }
   ],
   "source": [
    "def merge_sort(int_list):\n",
    "\n",
    "   list_length = len(int_list)\n",
    "   if list_length < 2: return \n",
    "\n",
    "   # Otherwise, split the list in half\n",
    "   list_a = int_list[:list_length//2]\n",
    "   list_b = int_list[list_length//2:]\n",
    "   \n",
    "   merge_sort(list_a)\n",
    "   merge_sort(list_b)\n",
    "\n",
    "   del int_list[:]\n",
    "   while len(list_a) + len(list_b) > 0:\n",
    "      if len(list_b) == 0 or (len(list_a) > 0 and list_a[0] < list_b[0]):\n",
    "         int_list.append(list_a.pop(0))\n",
    "      else:\n",
    "         int_list.append(list_b.pop(0))\n",
    "\n",
    "\n",
    "n = 9 #even n\n",
    "list_of_random_numbers = [random.randint(1,30) for n in range(0,n)]\n",
    "\n",
    "merge_sort(list_of_random_numbers)\n",
    "\n",
    "print(list_of_random_numbers)\n"
   ]
  },
  {
   "cell_type": "code",
   "execution_count": 238,
   "metadata": {},
   "outputs": [
    {
     "data": {
      "text/plain": [
       "[2, 26, 11, 14, 15, 22, 1, 1, 6]"
      ]
     },
     "execution_count": 238,
     "metadata": {},
     "output_type": "execute_result"
    }
   ],
   "source": [
    "\n",
    "list_of_random_numbers\n"
   ]
  },
  {
   "cell_type": "code",
   "execution_count": 239,
   "metadata": {},
   "outputs": [],
   "source": []
  },
  {
   "cell_type": "code",
   "execution_count": 240,
   "metadata": {},
   "outputs": [
    {
     "data": {
      "text/plain": [
       "[1, 1, 2, 6, 11, 14, 15, 22, 26]"
      ]
     },
     "execution_count": 240,
     "metadata": {},
     "output_type": "execute_result"
    }
   ],
   "source": [
    "list_of_random_numbers"
   ]
  },
  {
   "cell_type": "code",
   "execution_count": null,
   "metadata": {},
   "outputs": [],
   "source": []
  }
 ],
 "metadata": {
  "interpreter": {
   "hash": "9cfc85d9606e0c2297a2d05dd8c0fcff01b21693b42d8beb9cc310b527b794f4"
  },
  "kernelspec": {
   "display_name": "Python 3.8.5 64-bit ('app': conda)",
   "language": "python",
   "name": "python3"
  },
  "language_info": {
   "codemirror_mode": {
    "name": "ipython",
    "version": 3
   },
   "file_extension": ".py",
   "mimetype": "text/x-python",
   "name": "python",
   "nbconvert_exporter": "python",
   "pygments_lexer": "ipython3",
   "version": "3.7.7"
  },
  "orig_nbformat": 4
 },
 "nbformat": 4,
 "nbformat_minor": 2
}
