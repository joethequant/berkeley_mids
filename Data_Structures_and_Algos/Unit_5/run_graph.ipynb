{
 "cells": [
  {
   "cell_type": "code",
   "execution_count": 1,
   "metadata": {},
   "outputs": [],
   "source": [
    "%run graph.py"
   ]
  }
 ],
 "metadata": {
  "interpreter": {
   "hash": "bd41b1c5bcb29f35dd9e5be828591988549de760606d9b56bca42edee5aa471b"
  },
  "kernelspec": {
   "display_name": "Python 3.7.7 64-bit ('quant': conda)",
   "language": "python",
   "name": "python3"
  },
  "language_info": {
   "codemirror_mode": {
    "name": "ipython",
    "version": 3
   },
   "file_extension": ".py",
   "mimetype": "text/x-python",
   "name": "python",
   "nbconvert_exporter": "python",
   "pygments_lexer": "ipython3",
   "version": "3.7.7"
  },
  "orig_nbformat": 4
 },
 "nbformat": 4,
 "nbformat_minor": 2
}
