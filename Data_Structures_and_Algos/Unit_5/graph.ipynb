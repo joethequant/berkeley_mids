{
 "cells": [
  {
   "cell_type": "code",
   "execution_count": 5,
   "metadata": {},
   "outputs": [
    {
     "data": {
      "text/plain": [
       "[[0, 0, 0, 1, 1, 0, 1, 0, 1, 0, 1, 0, 0, 0, 0, 1, 1, 0, 1, 0, 1, 1, 0, 1, 1],\n",
       " [0, 0, 0, 1, 1, 0, 0, 0, 0, 0, 0, 0, 0, 0, 0, 0, 0, 1, 0, 0, 0, 0, 1, 1, 1],\n",
       " [0, 0, 0, 0, 0, 0, 0, 1, 0, 0, 0, 0, 0, 0, 0, 0, 0, 0, 0, 0, 0, 0, 1, 0, 0],\n",
       " [1, 1, 0, 0, 0, 1, 0, 0, 1, 1, 0, 1, 0, 0, 0, 1, 0, 0, 0, 0, 1, 1, 0, 1, 1],\n",
       " [1, 1, 0, 0, 0, 0, 1, 1, 1, 0, 0, 0, 1, 0, 0, 1, 0, 0, 0, 0, 1, 1, 1, 0, 0],\n",
       " [0, 0, 0, 1, 0, 0, 1, 0, 1, 0, 0, 1, 0, 0, 0, 0, 0, 0, 0, 1, 0, 0, 0, 1, 0],\n",
       " [1, 0, 0, 0, 1, 1, 0, 1, 0, 0, 0, 0, 1, 0, 0, 1, 0, 1, 0, 0, 0, 0, 0, 0, 0],\n",
       " [0, 0, 1, 0, 1, 0, 1, 0, 1, 0, 0, 1, 1, 1, 0, 1, 0, 0, 1, 0, 0, 0, 0, 1, 0],\n",
       " [1, 0, 0, 1, 1, 1, 0, 1, 0, 0, 0, 0, 0, 0, 0, 0, 1, 0, 1, 0, 1, 1, 1, 0, 1],\n",
       " [0, 0, 0, 1, 0, 0, 0, 0, 0, 0, 0, 0, 0, 0, 0, 1, 1, 0, 1, 0, 0, 0, 0, 1, 0],\n",
       " [1, 0, 0, 0, 0, 0, 0, 0, 0, 0, 0, 0, 1, 1, 1, 0, 0, 0, 0, 0, 1, 1, 1, 0, 0],\n",
       " [0, 0, 0, 1, 0, 1, 0, 1, 0, 0, 0, 0, 0, 0, 0, 0, 0, 0, 0, 1, 0, 0, 1, 0, 0],\n",
       " [0, 0, 0, 0, 1, 0, 1, 1, 0, 0, 1, 0, 0, 1, 0, 0, 1, 1, 0, 1, 0, 0, 1, 0, 0],\n",
       " [0, 0, 0, 0, 0, 0, 0, 1, 0, 0, 1, 0, 1, 0, 1, 0, 1, 0, 0, 1, 0, 0, 0, 0, 0],\n",
       " [0, 0, 0, 0, 0, 0, 0, 0, 0, 0, 1, 0, 0, 1, 0, 1, 0, 0, 0, 0, 0, 0, 1, 0, 0],\n",
       " [1, 0, 0, 1, 1, 0, 1, 1, 0, 1, 0, 0, 0, 0, 1, 0, 1, 0, 1, 1, 1, 0, 1, 1, 0],\n",
       " [1, 0, 0, 0, 0, 0, 0, 0, 1, 1, 0, 0, 1, 1, 0, 1, 0, 0, 0, 0, 0, 1, 0, 1, 0],\n",
       " [0, 1, 0, 0, 0, 0, 1, 0, 0, 0, 0, 0, 1, 0, 0, 0, 0, 0, 1, 1, 0, 1, 0, 0, 0],\n",
       " [1, 0, 0, 0, 0, 0, 0, 1, 1, 1, 0, 0, 0, 0, 0, 1, 0, 1, 0, 0, 1, 1, 0, 1, 0],\n",
       " [0, 0, 0, 0, 0, 1, 0, 0, 0, 0, 0, 1, 1, 1, 0, 1, 0, 1, 0, 0, 1, 0, 1, 1, 0],\n",
       " [1, 0, 0, 1, 1, 0, 0, 0, 1, 0, 1, 0, 0, 0, 0, 1, 0, 0, 1, 1, 0, 0, 0, 0, 0],\n",
       " [1, 0, 0, 1, 1, 0, 0, 0, 1, 0, 1, 0, 0, 0, 0, 0, 1, 1, 1, 0, 0, 0, 0, 1, 1],\n",
       " [0, 1, 1, 0, 1, 0, 0, 0, 1, 0, 1, 1, 1, 0, 1, 1, 0, 0, 0, 1, 0, 0, 0, 0, 0],\n",
       " [1, 1, 0, 1, 0, 1, 0, 1, 0, 1, 0, 0, 0, 0, 0, 1, 1, 0, 1, 1, 0, 1, 0, 0, 0],\n",
       " [1, 1, 0, 1, 0, 0, 0, 0, 1, 0, 0, 0, 0, 0, 0, 0, 0, 0, 0, 0, 0, 1, 0, 0, 0]]"
      ]
     },
     "execution_count": 5,
     "metadata": {},
     "output_type": "execute_result"
    }
   ],
   "source": [
    "# Open file.\n",
    "with open('graph_example_files/adj.txt') as f:\n",
    "    contents = f.readlines()\n",
    " \n",
    "matrix = []\n",
    "for line in contents:\n",
    "    line = line.replace('  \\n', '')\n",
    "    line = line.split(' ')\n",
    "    line = [int(x) for x in line]\n",
    "    matrix.append(line)\n",
    "\n",
    "list_adj_matrix = matrix\n",
    "list_adj_matrix"
   ]
  },
  {
   "cell_type": "code",
   "execution_count": 6,
   "metadata": {},
   "outputs": [],
   "source": [
    "class Graph:\n",
    "\n",
    "    class _Vertex:\n",
    "\n",
    "        def __init__(self, value = None):\n",
    "            self.value = value\n",
    "\n",
    "        def __str__(self) -> str:\n",
    "            return f'{self.value}'\n",
    "\n",
    "        def __repr__(self) -> str:\n",
    "            return f'{self.value}'\n",
    "\n",
    "        def __hash__(self):\n",
    "            return hash(id(self))\n",
    "\n",
    "        def __eq__(self, k):\n",
    "            return self.value == k.value\n",
    "\n",
    "    class _Edge:\n",
    "\n",
    "        def __init__(self, u, v):\n",
    "            self._origin = u\n",
    "            self._destination = v\n",
    "\n",
    "        def get_endpoints(self):\n",
    "            return self._origin, self._destination\n",
    "\n",
    "        def get_destination(self):\n",
    "            return self._destination\n",
    "\n",
    "        def get_opposite(self, v):\n",
    "            # return the destination if v is origin, if destination, return the origin.\n",
    "            return self._destination if v is self._origin else self._origin\n",
    "\n",
    "        def __str__(self) -> str:\n",
    "            return f'{self._origin} -> {self._destination} '\n",
    "\n",
    "        def __repr__(self) -> str:\n",
    "            return f'{self._origin} -> {self._destination} '\n",
    "\n",
    "        def __hash__(self):\n",
    "            # print(hash(str(self)))\n",
    "            return hash( (self._origin, self._destination ))\n",
    "\n",
    "    def __init__(self):\n",
    "        self.vertices = {}\n",
    "        self.outgoing = {}\n",
    "        self.incoming = {}\n",
    "\n",
    "    def __str__(self) -> str:\n",
    "            return f'{self.outgoing} : {self.incoming}'\n",
    "\n",
    "    def __repr__(self) -> str:\n",
    "        return f'{self.outgoing} : {self.incoming}'\n",
    "    \n",
    "    def get_vertices(self):\n",
    "        return self.vertices.keys()\n",
    "    \n",
    "    # def get_vertices_value(self):\n",
    "    #     return [x.value for x in self.vertices.keys()]\n",
    "\n",
    "    def get_vertex(self, v):\n",
    "        return self.vertices[v]\n",
    "\n",
    "    def add_vertex(self, element):        \n",
    "        \n",
    "        if element in self.get_vertices():\n",
    "            return self.vertices[element]\n",
    "        else:\n",
    "            vertex = self._Vertex(element)\n",
    "            self.vertices[element] = vertex\n",
    "            self.outgoing[vertex] = {}\n",
    "            self.incoming[vertex] = {}\n",
    "            return vertex\n",
    "\n",
    "    def add_edge(self, u, v):\n",
    "        if u.value != v.value: #exclude edges that move to themselves\n",
    "            edge = self._Edge(u,v)\n",
    "            self.outgoing[u][v] = edge\n",
    "            self.incoming[v][u] = edge\n",
    "\n",
    "    def get_edge(self, u, v):\n",
    "        return self.outgoing[u].get(v)\n",
    "\n",
    "    def get_outgoing(self, u):\n",
    "\n",
    "        for edge in self.outgoing[u].values():\n",
    "            yield edge\n",
    "\n",
    "    def get_incoming(self, u):\n",
    "\n",
    "        for edge in self.incoming[u].values():\n",
    "            yield edge\n",
    "\n",
    "\n",
    "        # return self.outgoing[u]\n",
    "        \n",
    "    def edges(self):\n",
    "        result = set()\n",
    "        for secondary_map in self.outgoing.values():\n",
    "            result.update(secondary_map.values())\n",
    "        return result"
   ]
  },
  {
   "cell_type": "code",
   "execution_count": 7,
   "metadata": {},
   "outputs": [],
   "source": [
    "new_graph = Graph()\n",
    "\n",
    "#populate the graph\n",
    "for row in range(len(list_adj_matrix)):\n",
    "    current_vertex = new_graph.add_vertex(row)\n",
    "\n",
    "    for column in range(len(list_adj_matrix[row])): \n",
    "        to_vertex = new_graph.add_vertex(column)\n",
    "            \n",
    "        if list_adj_matrix[row][column] == 1:\n",
    "            new_graph.add_edge(current_vertex, to_vertex ) "
   ]
  },
  {
   "cell_type": "code",
   "execution_count": 8,
   "metadata": {},
   "outputs": [],
   "source": [
    "# Dijkstra's Algo\n",
    "\n",
    "def shortest_path_length(g, src):\n",
    "\n",
    "    d = {}\n",
    "    cloud = {} # Returns how many nodes it takes to get to that location.  for example 1: 2 means it takes 2 nodes to get from 0 to 1.\n",
    "    pq = {} #using a dict as a queue to get it working. \n",
    "    pqlocator = {}\n",
    "\n",
    "    # for each instance of vertex v add an entry to the priority queue, with\n",
    "    # the source having distance 0 and all others having infinite distance. \n",
    "    for v in g.get_vertices():\n",
    "        v = new_graph.get_vertex(v)\n",
    "\n",
    "        if v is src: \n",
    "            d[v] = 0\n",
    "        else:\n",
    "            d[v] = float('inf')\n",
    "        \n",
    "        pq[v] = d[v]\n",
    "        # pqlocator[v] = v\n",
    "\n",
    "    while len(pq) > 0 : # mod for list \n",
    "    #     key, u = pq.remove_min() #### need to change this for our implementation. \n",
    "        u = min(pq, key=pq.get) # this will grab the initial src node. \n",
    "        \n",
    "        cloud[u] = pq[u] #setting this to min value for traversal for src its 0\n",
    "\n",
    "        del pq[u]\n",
    "        # print(pq)\n",
    "        # print(d[u])\n",
    "        # print('pq_____list')\n",
    "        \n",
    "\n",
    "        # del pqlocator[u]\n",
    "        \n",
    "        for e in g.get_outgoing(u): #this is a generator function.\n",
    "\n",
    "            v = e.get_opposite(u) # of the edge with u get -> destination\n",
    "\n",
    "            # print(v)\n",
    "            # print(cloud)\n",
    "            # print('---')\n",
    "            if v not in cloud:\n",
    "                \n",
    "                # print(v)\n",
    "                # print('--i ran --')\n",
    "                wgt = 1       #we did not use an element weight in out graph class. Each node is 1 weight.\n",
    "                if d[u] + wgt < d[v]:\n",
    "                    d[v] = d[u] + wgt \n",
    "                    pq[v] = d[v] # changed from this pq.update(pqlocator[v], d[v], v) \n",
    "                    \n",
    "    return cloud, d, pq, wgt\n",
    "\n",
    "cloud_0, d_0, pq_0, wgt_0 = shortest_path_length(new_graph, new_graph.get_vertex(0))\n",
    "cloud_1, d_1, pq_1, wgt_1 = shortest_path_length(new_graph, new_graph.get_vertex(1))"
   ]
  },
  {
   "cell_type": "code",
   "execution_count": 9,
   "metadata": {},
   "outputs": [
    {
     "data": {
      "text/plain": [
       "11"
      ]
     },
     "execution_count": 9,
     "metadata": {},
     "output_type": "execute_result"
    }
   ],
   "source": [
    "count= 0\n",
    "for x in cloud_0.keys():\n",
    "    if cloud_0[x] == cloud_1[x]:\n",
    "        count += 1\n",
    "count"
   ]
  },
  {
   "cell_type": "code",
   "execution_count": 10,
   "metadata": {},
   "outputs": [],
   "source": [
    "def shortest_path_tree(g,s,d):\n",
    "    tree={}\n",
    "    for v in d:\n",
    "        if v is not s:\n",
    "            for e in g.get_incoming(v):\n",
    "                u = e.get_opposite(v)\n",
    "                wgt = 1\n",
    "                if d[v] == d[u] + wgt:\n",
    "                    #tree[v] = e.get_endpoints()[0]\n",
    "                    tree[v] = e\n",
    "    return tree\n",
    "\n",
    "tree_paths = shortest_path_tree(new_graph, new_graph.get_vertex(0),d_0)"
   ]
  },
  {
   "cell_type": "code",
   "execution_count": 21,
   "metadata": {},
   "outputs": [
    {
     "data": {
      "text/plain": [
       "[0 -> 24 ]"
      ]
     },
     "execution_count": 21,
     "metadata": {},
     "output_type": "execute_result"
    }
   ],
   "source": [
    "def get_best_path(tree, start, end):\n",
    "\n",
    "    path = {}\n",
    "\n",
    "    count = 0\n",
    "\n",
    "    path[count] = tree[end]\n",
    "\n",
    "    while tree[end]._origin != start:\n",
    "\n",
    "        count += 1\n",
    "        path[count] = tree[tree[end]._origin]\n",
    "        end = tree[end]._origin\n",
    "\n",
    "    new_order = [x for x in path.keys()]\n",
    "    new_order.reverse()\n",
    "\n",
    "    steps_in_order = [ path[x] for x in new_order]\n",
    "\n",
    "    return steps_in_order\n",
    "\n",
    "get_best_path(tree_paths, new_graph.get_vertex(0), new_graph.get_vertex(24))"
   ]
  },
  {
   "cell_type": "code",
   "execution_count": 12,
   "metadata": {},
   "outputs": [
    {
     "data": {
      "text/plain": [
       "0 -> 15 "
      ]
     },
     "execution_count": 12,
     "metadata": {},
     "output_type": "execute_result"
    }
   ],
   "source": [
    "new_graph.get_edge(new_graph.get_vertex(0),new_graph.get_vertex(15))"
   ]
  },
  {
   "cell_type": "code",
   "execution_count": 13,
   "metadata": {},
   "outputs": [
    {
     "data": {
      "text/plain": [
       "15 -> 22 "
      ]
     },
     "execution_count": 13,
     "metadata": {},
     "output_type": "execute_result"
    }
   ],
   "source": [
    "new_graph.get_edge(new_graph.get_vertex(15),new_graph.get_vertex(22))"
   ]
  }
 ],
 "metadata": {
  "interpreter": {
   "hash": "bd41b1c5bcb29f35dd9e5be828591988549de760606d9b56bca42edee5aa471b"
  },
  "kernelspec": {
   "display_name": "Python 3.7.7 64-bit ('quant': conda)",
   "language": "python",
   "name": "python3"
  },
  "language_info": {
   "codemirror_mode": {
    "name": "ipython",
    "version": 3
   },
   "file_extension": ".py",
   "mimetype": "text/x-python",
   "name": "python",
   "nbconvert_exporter": "python",
   "pygments_lexer": "ipython3",
   "version": "3.7.7"
  },
  "orig_nbformat": 4
 },
 "nbformat": 4,
 "nbformat_minor": 2
}
