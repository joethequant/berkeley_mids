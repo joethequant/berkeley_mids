{
 "cells": [
  {
   "cell_type": "code",
   "execution_count": 314,
   "metadata": {},
   "outputs": [],
   "source": [
    "class MarblesBoard:\n",
    "    \n",
    "    def __init__(self, marbles):\n",
    "        \n",
    "        self._marbles = list(marbles)\n",
    "       \n",
    "    def __str__(self):\n",
    "        str_list = [str(x) for x in self._marbles]\n",
    "        str_list = ' '.join(str_list)\n",
    "        return str_list\n",
    "    \n",
    "    def __repr__ (self):\n",
    "        str_list = [str(x) for x in self._marbles]\n",
    "        str_list = ' '.join(str_list)\n",
    "        return str_list\n",
    "    \n",
    "    def switch(self):\n",
    "        self._marbles[1], self._marbles[0] = self._marbles[0], self._marbles[1]\n",
    "        print(self)\n",
    "        return self\n",
    "    \n",
    "    def rotate(self):\n",
    "        self._marbles.append(self._marbles.pop(0))\n",
    "        print(self)\n",
    "        return self\n",
    "    \n",
    "    def solved(self):\n",
    "        flag = False\n",
    "        if(all(self._marbles[i] <= self._marbles[i + 1] for i in range(len(self._marbles)-1))):\n",
    "            return True\n",
    "        else:\n",
    "            return False\n",
    "        \n",
    "        \n",
    "class Solver(MarblesBoard):\n",
    "    \n",
    "    def __init__(self, marbles):\n",
    "        self.Marbles = marbles\n",
    "        self._marbles = self.Marbles._marbles\n",
    "        \n",
    "#     def get_iterations(self):\n",
    "#         n=self.Marbles._marbles\n",
    "        \n",
    "    def solve(self):\n",
    "        print(self)\n",
    "        count = 0\n",
    "        while not self.Marbles.solved():\n",
    "            count+=1\n",
    "            if self.Marbles._marbles[0] < self.Marbles._marbles[1]:\n",
    "                self.Marbles.rotate()\n",
    "            else:\n",
    "                if (self.Marbles._marbles[0] != 0) and (self.Marbles._marbles[1] != 0):\n",
    "                    self.Marbles.switch()\n",
    "                else:\n",
    "                    self.Marbles.rotate()\n",
    "                    \n",
    "        if self.Marbles.solved():\n",
    "            print(f'total steps: {count}')\n",
    "            "
   ]
  },
  {
   "cell_type": "code",
   "execution_count": 319,
   "metadata": {},
   "outputs": [],
   "source": [
    "board = MarblesBoard((1,3,0,2))\n",
    "\n",
    "solve_it = Solver(board)\n",
    "solve_it.solve()"
   ]
  },
  {
   "cell_type": "code",
   "execution_count": 320,
   "metadata": {},
   "outputs": [
    {
     "name": "stdout",
     "output_type": "stream",
     "text": [
      "1 3 0 2\n",
      "3 0 2 1\n",
      "0 2 1 3\n",
      "2 1 3 0\n",
      "1 2 3 0\n",
      "2 3 0 1\n",
      "3 0 1 2\n",
      "0 1 2 3\n",
      "total steps: 7\n"
     ]
    }
   ],
   "source": [
    "solve_it = Solver(board)\n",
    "solve_it.solve()"
   ]
  }
 ],
 "metadata": {
  "kernelspec": {
   "display_name": "quant",
   "language": "python",
   "name": "quant"
  },
  "language_info": {
   "codemirror_mode": {
    "name": "ipython",
    "version": 3
   },
   "file_extension": ".py",
   "mimetype": "text/x-python",
   "name": "python",
   "nbconvert_exporter": "python",
   "pygments_lexer": "ipython3",
   "version": "3.7.7"
  }
 },
 "nbformat": 4,
 "nbformat_minor": 4
}
